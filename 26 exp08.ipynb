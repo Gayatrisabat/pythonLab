{
 "cells": [
  {
   "cell_type": "markdown",
   "id": "a0df7003-3820-4da7-a4a0-1d6550293e5f",
   "metadata": {},
   "source": [
    "#### Gayatri Sabat S2-26"
   ]
  },
  {
   "cell_type": "markdown",
   "id": "9416e940-9890-4e15-b7cf-ca1655649027",
   "metadata": {},
   "source": [
    "##### Urls.py"
   ]
  },
  {
   "cell_type": "code",
   "execution_count": null,
   "id": "7134b956-95ae-4655-b141-e3f25b48b48e",
   "metadata": {},
   "outputs": [],
   "source": [
    "from django.urls import path, include\n",
    "from .views import authView, home\n",
    "\n",
    "urlpatterns = [\n",
    " path(\"\", home, name=\"home\"),\n",
    " path(\"signup/\", authView, name=\"authView\"),\n",
    " path(\"accounts/\", include(\"django.contrib.auth.urls\")),\n",
    "]\n"
   ]
  },
  {
   "cell_type": "markdown",
   "id": "c5013732-3c2b-4991-8603-5f4790a3f5fd",
   "metadata": {},
   "source": [
    "##### views.py"
   ]
  },
  {
   "cell_type": "code",
   "execution_count": null,
   "id": "6d19f826-afd0-47f1-ae9d-935bb07ece00",
   "metadata": {},
   "outputs": [],
   "source": [
    "\n",
    "from django.shortcuts import render, redirect\n",
    "from django.contrib.auth.forms import UserCreationForm\n",
    "from django.contrib.auth.decorators import login_required\n",
    "\n",
    "\n",
    "@login_required\n",
    "def home(request):\n",
    " return render(request, \"home.html\", {})\n",
    "\n",
    "\n",
    "def authView(request):\n",
    " if request.method == \"POST\":\n",
    "  form = UserCreationForm(request.POST or None)\n",
    "  if form.is_valid():\n",
    "   form.save()\n",
    "   return redirect(\"base:login\")\n",
    " else:\n",
    "  form = UserCreationForm()\n",
    " return render(request, \"registration/signup.html\", {\"form\": form})"
   ]
  },
  {
   "attachments": {
    "ceca1358-f972-4bbd-80a5-db3bef4f337b.png": {
     "image/png": "[encoded data removed]"
    }
   },
   "cell_type": "markdown",
   "id": "97cbcdc4-683a-4026-8803-a5893a1a7e1e",
   "metadata": {},
   "source": [
    "\n",
    "![Screenshot 2025-03-28 161303.png](attachment:ceca1358-f972-4bbd-80a5-db3bef4f337b.png)"
   ]
  },
  {
   "cell_type": "code",
   "execution_count": null,
   "id": "0ab9b074-1fd3-4087-ae0d-40dfcfe6fed5",
   "metadata": {},
   "outputs": [],
   "source": []
  }
 ],
 "metadata": {
  "kernelspec": {
   "display_name": "Python [conda env:base] *",
   "language": "python",
   "name": "conda-base-py"
  },
  "language_info": {
   "codemirror_mode": {
    "name": "ipython",
    "version": 3
   },
   "file_extension": ".py",
   "mimetype": "text/x-python",
   "name": "python",
   "nbconvert_exporter": "python",
   "pygments_lexer": "ipython3",
   "version": "3.11.5"
  }
 },
 "nbformat": 4,
 "nbformat_minor": 5
}
