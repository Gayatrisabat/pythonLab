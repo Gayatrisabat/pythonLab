{
 "cells": [
  {
   "cell_type": "code",
   "execution_count": null,
   "metadata": {},
   "outputs": [
    {
     "name": "stdout",
     "output_type": "stream",
     "text": [
      "3\n",
      "3\n",
      "3\n"
     ]
    }
   ],
   "source": [
    "class StackDepth:\n",
    "    def maxDepth(self, s: str) -> int: \n",
    "        max_depth = 0\n",
    "        current_depth = 0\n",
    "\n",
    "        for char in s:\n",
    "            if char == '(':\n",
    "                current_depth += 1\n",
    "                max_depth = max(max_depth, current_depth)\n",
    "            elif char == ')':\n",
    "                current_depth -= 1\n",
    "\n",
    "        return max_depth\n",
    "\n",
    "\n",
    "string = StackDepth()\n",
    "\n",
    "print(string.maxDepth(\"(1+(2*3)+((8)/4))+1\"))  \n",
    "print(string.maxDepth(\"(1)+((2))+(((3)))\"))    \n",
    "print(string.maxDepth(\"()(())((()()))\"))  "
   ]
  }
 ],
 "metadata": {
  "kernelspec": {
   "display_name": "Python 3",
   "language": "python",
   "name": "python3"
  },
  "language_info": {
   "codemirror_mode": {
    "name": "ipython",
    "version": 3
   },
   "file_extension": ".py",
   "mimetype": "text/x-python",
   "name": "python",
   "nbconvert_exporter": "python",
   "pygments_lexer": "ipython3",
   "version": "3.11.9"
  }
 },
 "nbformat": 4,
 "nbformat_minor": 2
}
