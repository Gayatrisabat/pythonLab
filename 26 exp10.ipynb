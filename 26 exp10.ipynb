{
 "cells": [
  {
   "cell_type": "markdown",
   "id": "a0df7003-3820-4da7-a4a0-1d6550293e5f",
   "metadata": {},
   "source": [
    "### Gayatri Sabat S2-26"
   ]
  },
  {
   "cell_type": "code",
   "execution_count": 13,
   "id": "7134b956-95ae-4655-b141-e3f25b48b48e",
   "metadata": {},
   "outputs": [
    {
     "name": "stdout",
     "output_type": "stream",
     "text": [
      "Pi: 3.141592653589793\n",
      "Euler's Number: 2.718281828459045\n",
      "Sin(45 degrees): 0.7071067811865476\n",
      "Cos(45 degrees): 0.7071067811865476\n",
      "Tan(45 degrees): 0.9999999999999999\n",
      "Exponential of 2: 7.38905609893065\n",
      "Natural Log of 10: 2.302585092994046\n",
      "Log base 10 of 100: 2.0\n",
      "Log base 2 of 8: 3.0\n",
      "Ceil of 4.3: 5.0\n",
      "Floor of 4.7: 4.0\n",
      "Round 4.5: 4.0\n",
      "Random Number [0,1]: 0.02075316217505907\n",
      "Random Integer [1,10]: 8\n",
      "Mean: 5.0\n",
      "Median: 5.0\n",
      "Standard Deviation: 2.581988897471611\n",
      "Variance: 6.666666666666667\n",
      "GCD of 24 and 36: 12\n",
      "LCM of 6 and 8: 24\n",
      "Factorial of 5: 120\n",
      "2 to the power of 3: 8\n"
     ]
    },
    {
     "name": "stderr",
     "output_type": "stream",
     "text": [
      "C:\\Users\\admin\\AppData\\Local\\Temp\\ipykernel_11804\\399824056.py:42: DeprecationWarning: `np.math` is a deprecated alias for the standard library `math` module (Deprecated Numpy 1.25). Replace usages of `np.math` with `math`\n",
      "  print(\"Factorial of 5:\", np.math.factorial(5))\n"
     ]
    }
   ],
   "source": [
    "import numpy as np\n",
    "\n",
    "# Exploring basic NumPy methods (without array methods)\n",
    "\n",
    "# Mathematical Constants\n",
    "print(\"Pi:\", np.pi)\n",
    "print(\"Euler's Number:\", np.e)\n",
    "\n",
    "# Trigonometric Functions\n",
    "angle_rad = np.deg2rad(45)  # Convert 45 degrees to radians\n",
    "print(\"Sin(45 degrees):\", np.sin(angle_rad))\n",
    "print(\"Cos(45 degrees):\", np.cos(angle_rad))\n",
    "print(\"Tan(45 degrees):\", np.tan(angle_rad))\n",
    "\n",
    "# Exponential and Logarithmic Functions\n",
    "print(\"Exponential of 2:\", np.exp(2))\n",
    "print(\"Natural Log of 10:\", np.log(10))\n",
    "print(\"Log base 10 of 100:\", np.log10(100))\n",
    "print(\"Log base 2 of 8:\", np.log2(8))\n",
    "\n",
    "# Rounding Functions\n",
    "print(\"Ceil of 4.3:\", np.ceil(4.3))\n",
    "print(\"Floor of 4.7:\", np.floor(4.7))\n",
    "print(\"Round 4.5:\", np.round(4.5))\n",
    "\n",
    "# Random Number Generation\n",
    "print(\"Random Number [0,1]:\", np.random.rand())\n",
    "print(\"Random Integer [1,10]:\", np.random.randint(1, 10))\n",
    "\n",
    "# Statistical Functions\n",
    "data = [1, 2, 3, 4, 5, 6, 7, 8, 9]\n",
    "print(\"Mean:\", np.mean(data))\n",
    "print(\"Median:\", np.median(data))\n",
    "print(\"Standard Deviation:\", np.std(data))\n",
    "print(\"Variance:\", np.var(data))\n",
    "\n",
    "# Greatest Common Divisor (GCD) and Least Common Multiple (LCM)\n",
    "print(\"GCD of 24 and 36:\", np.gcd(24, 36))\n",
    "print(\"LCM of 6 and 8:\", np.lcm(6, 8))\n",
    "\n",
    "# Factorial and Power\n",
    "print(\"Factorial of 5:\", np.math.factorial(5))\n",
    "print(\"2 to the power of 3:\", np.power(2, 3))"
   ]
  },
  {
   "cell_type": "code",
   "execution_count": null,
   "id": "bca2faa5-ca98-4e6b-b8ce-16c69dc0b609",
   "metadata": {},
   "outputs": [],
   "source": []
  }
 ],
 "metadata": {
  "kernelspec": {
   "display_name": "base",
   "language": "python",
   "name": "python3"
  },
  "language_info": {
   "codemirror_mode": {
    "name": "ipython",
    "version": 3
   },
   "file_extension": ".py",
   "mimetype": "text/x-python",
   "name": "python",
   "nbconvert_exporter": "python",
   "pygments_lexer": "ipython3",
   "version": "3.11.7"
  }
 },
 "nbformat": 4,
 "nbformat_minor": 5
}
