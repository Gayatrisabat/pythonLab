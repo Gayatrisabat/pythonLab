{
 "cells": [
  {
   "cell_type": "code",
   "execution_count": null,
   "metadata": {},
   "outputs": [],
   "source": [
    "from contextlib import contextmanager\n",
    "\n",
    "@contextmanager\n",
    "def genericFileFunction(filename, method):\n",
    " \n",
    "    file = open(filename, method)\n",
    "    try:\n",
    "\n",
    "        yield file\n",
    "    finally:\n",
    "      \n",
    "        file.close()\n",
    "\n",
    "if __name__ == '__main__':\n",
    "    filename = 'file.txt'\n",
    "    \n",
    "\n",
    "    with genericFileFunction(filename, 'w') as file:\n",
    "        file.write(\"This is the first line.\\n\")\n",
    "        file.write(\"This is the second line.\\n\")\n",
    "    \n",
    "    \n",
    "    with genericFileFunction(filename, 'r') as file:\n",
    "        content_before_append = file.read()\n",
    "   \n",
    "    with genericFileFunction(filename, 'a') as file:\n",
    "        file.write(\"This is the appended line.\\n\")\n",
    "    \n",
    "    with genericFileFunction(filename, 'r') as file:\n",
    "        content_after_append = file.read()\n",
    "\n",
    "    print(\"Content before appending:\\n\", content_before_append)\n",
    "    print(\"Content after appending:\\n\", content_after_append)\n"
   ]
  }
 ],
 "metadata": {
  "kernelspec": {
   "display_name": "Python 3",
   "language": "python",
   "name": "python3"
  },
  "language_info": {
   "name": "python",
   "version": "3.12.7"
  }
 },
 "nbformat": 4,
 "nbformat_minor": 2
}
